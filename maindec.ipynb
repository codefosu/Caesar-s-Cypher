{
 "cells": [
  {
   "cell_type": "code",
   "execution_count": 2,
   "id": "2a51c33e-9266-48ca-8cc2-b7b4f56367bb",
   "metadata": {},
   "outputs": [
    {
     "name": "stdin",
     "output_type": "stream",
     "text": [
      "Please enter text you want to decrypt: melvin\n",
      "Enter number of reverse shifts for decryption  : 3\n"
     ]
    },
    {
     "data": {
      "text/plain": [
       "'PHOYLQ'"
      ]
     },
     "execution_count": 2,
     "metadata": {},
     "output_type": "execute_result"
    }
   ],
   "source": [
    "# Caesar cipher \n",
    "# decryption\n",
    "word = input('Please enter text you want to decrypt:')\n",
    "move = int(input ('Enter number of reverse shifts for decryption  :'))\n",
    "word = word.upper()\n",
    "def caesar_cipher(text, shifts):\n",
    "    ##creating an empty string to store the encrypted text\n",
    "    decrypted_text = \"\"\n",
    "    #iterating through letters of the text and sifting\n",
    "    for letters in text:\n",
    "        shifted = ord(letters) + shifts\n",
    "        if shifted > ord('Z'):\n",
    "            shifted -= 26\n",
    "        decrypted_text += chr(shifted)\n",
    "        #returning text\n",
    "    return decrypted_text\n",
    "#test\n",
    "caesar_cipher(word,move)\n",
    "\n"
   ]
  }
 ],
 "metadata": {
  "kernelspec": {
   "display_name": "Python 3 (ipykernel)",
   "language": "python",
   "name": "python3"
  },
  "language_info": {
   "codemirror_mode": {
    "name": "ipython",
    "version": 3
   },
   "file_extension": ".py",
   "mimetype": "text/x-python",
   "name": "python",
   "nbconvert_exporter": "python",
   "pygments_lexer": "ipython3",
   "version": "3.12.3"
  }
 },
 "nbformat": 4,
 "nbformat_minor": 5
}
