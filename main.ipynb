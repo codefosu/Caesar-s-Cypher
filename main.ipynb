{
 "cells": [
  {
   "cell_type": "code",
   "execution_count": 37,
   "id": "5179424b-350b-44db-ab07-5fe812ee471b",
   "metadata": {},
   "outputs": [
    {
     "name": "stdin",
     "output_type": "stream",
     "text": [
      "Please enter text you want to encrypt: the quick brown fox\n",
      "Enter number of right shifts for encryption  : -3\n"
     ]
    },
    {
     "data": {
      "text/plain": [
       "'QEB\\x1dNRF@H\\x1d?OLTK\\x1dCLU'"
      ]
     },
     "execution_count": 37,
     "metadata": {},
     "output_type": "execute_result"
    }
   ],
   "source": [
    "# Caesar cipher \n",
    "# Encryption\n",
    "word = input('Please enter text you want to encrypt:')\n",
    "move = int(input ('Enter number of right shifts for encryption  :'))\n",
    "word = word.upper()\n",
    "def caesar_cipher(text, shifts):\n",
    "    ##creating an empty string to store the encrypted text\n",
    "    encrypted_text = \"\"\n",
    "    #iterating through letters of the text and sifting\n",
    "    for letters in text:\n",
    "        shifted = ord(letters) + shifts\n",
    "        if shifted > ord('Z'):\n",
    "            shifted -= 26\n",
    "        encrypted_text += chr(shifted)\n",
    "        #returning text\n",
    "    return encrypted_text\n",
    "#test\n",
    "caesar_cipher(word,move)\n",
    "\n"
   ]
  }
 ],
 "metadata": {
  "kernelspec": {
   "display_name": "Python 3 (ipykernel)",
   "language": "python",
   "name": "python3"
  },
  "language_info": {
   "codemirror_mode": {
    "name": "ipython",
    "version": 3
   },
   "file_extension": ".py",
   "mimetype": "text/x-python",
   "name": "python",
   "nbconvert_exporter": "python",
   "pygments_lexer": "ipython3",
   "version": "3.12.3"
  }
 },
 "nbformat": 4,
 "nbformat_minor": 5
}
